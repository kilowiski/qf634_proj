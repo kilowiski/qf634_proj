{
 "cells": [
  {
   "cell_type": "code",
   "execution_count": 1,
   "metadata": {},
   "outputs": [],
   "source": [
    "import matplotlib.pyplot as plt\n",
    "import numpy as np\n",
    "import pandas as pd\n",
    "import seaborn as sns\n",
    "from scipy.signal import periodogram\n",
    "from sklearn.linear_model import LinearRegression\n",
    "from sklearn.model_selection import train_test_split\n",
    "from statsmodels.graphics.tsaplots import plot_pacf\n",
    "from statsmodels.graphics.tsaplots import plot_acf\n",
    "from sklearn.metrics import mean_squared_error"
   ]
  },
  {
   "cell_type": "code",
   "execution_count": 2,
   "metadata": {},
   "outputs": [
    {
     "name": "stdout",
     "output_type": "stream",
     "text": [
      "        date  y_rate_CME3MSOFR\n",
      "0 2019-01-03            2.4328\n",
      "1 2019-01-04            2.4296\n",
      "2 2019-01-07            2.4276\n",
      "3 2019-01-08            2.4298\n",
      "4 2019-01-09            2.4390\n"
     ]
    }
   ],
   "source": [
    "# this is our target\n",
    "y_CME3MSOFR = pd.read_csv(f\"../data/CME3MSOFR.csv\")\n",
    "y_CME3MSOFR = y_CME3MSOFR.dropna(axis=\"columns\")\n",
    "y_CME3MSOFR.drop(columns=[\"dd\", \"mm\", \"yyyy\"], inplace=True)\n",
    "y_CME3MSOFR.columns = [\"date\", \"y_rate_CME3MSOFR\"]\n",
    "y_CME3MSOFR[\"date\"] = pd.to_datetime(y_CME3MSOFR[\"date\"])\n",
    "# flip it so that first row\n",
    "y_CME3MSOFR = y_CME3MSOFR.iloc[::-1]\n",
    "y_CME3MSOFR.reset_index(inplace=True)\n",
    "y_CME3MSOFR = y_CME3MSOFR.drop(columns=[\"index\"])\n",
    "print(y_CME3MSOFR.head())"
   ]
  },
  {
   "cell_type": "code",
   "execution_count": 3,
   "metadata": {},
   "outputs": [
    {
     "name": "stdout",
     "output_type": "stream",
     "text": [
      "Empty DataFrame\n",
      "Columns: [date, y_rate_CME3MSOFR]\n",
      "Index: []\n",
      "       y_rate_CME3MSOFR\n",
      "count       1199.000000\n",
      "mean           1.821782\n",
      "std            1.884534\n",
      "min            0.016000\n",
      "25%            0.069150\n",
      "50%            1.579000\n",
      "75%            2.665290\n",
      "max            5.422450\n"
     ]
    }
   ],
   "source": [
    "# check NA\n",
    "print(y_CME3MSOFR[y_CME3MSOFR.isna().any(axis=1)])\n",
    "# describe the data\n",
    "print(y_CME3MSOFR.describe())"
   ]
  },
  {
   "cell_type": "code",
   "execution_count": 4,
   "metadata": {},
   "outputs": [
    {
     "name": "stdout",
     "output_type": "stream",
     "text": [
      "        date  x_price_3MSOFRFuture\n",
      "0 2018-12-14                97.370\n",
      "1 2018-12-17                97.405\n",
      "2 2018-12-18                97.455\n",
      "3 2018-12-19                97.460\n",
      "4 2018-12-20                97.470\n"
     ]
    }
   ],
   "source": [
    "# this is our feature\n",
    "# 3MSOFRFuture\n",
    "x_3MSOFRFuture = pd.read_csv(f\"../data/3MSOFRFuture.csv\")\n",
    "x_3MSOFRFuture = x_3MSOFRFuture.dropna(axis=\"columns\")\n",
    "x_3MSOFRFuture.drop(columns=[\"dd\", \"mm\", \"yyyy\"], inplace=True)\n",
    "x_3MSOFRFuture.columns = [\"date\", \"x_price_3MSOFRFuture\"]\n",
    "x_3MSOFRFuture[\"date\"] = pd.to_datetime(x_3MSOFRFuture[\"date\"])\n",
    "# flip it so that first row\n",
    "x_3MSOFRFuture = x_3MSOFRFuture.iloc[::-1]\n",
    "x_3MSOFRFuture.reset_index(inplace=True)\n",
    "x_3MSOFRFuture = x_3MSOFRFuture.drop(columns=[\"index\"])\n",
    "print(x_3MSOFRFuture.head())"
   ]
  },
  {
   "cell_type": "code",
   "execution_count": 5,
   "metadata": {},
   "outputs": [
    {
     "name": "stdout",
     "output_type": "stream",
     "text": [
      "Empty DataFrame\n",
      "Columns: [date, x_price_3MSOFRFuture]\n",
      "Index: []\n",
      "       x_price_3MSOFRFuture\n",
      "count           1247.000000\n",
      "mean              97.822650\n",
      "std                1.834714\n",
      "min               94.305000\n",
      "25%               96.332500\n",
      "50%               98.515000\n",
      "75%               99.380000\n",
      "max               99.990000\n"
     ]
    }
   ],
   "source": [
    "# check NA\n",
    "print(x_3MSOFRFuture[x_3MSOFRFuture.isna().any(axis=1)])\n",
    "# describe the data\n",
    "print(x_3MSOFRFuture.describe())"
   ]
  },
  {
   "cell_type": "code",
   "execution_count": 6,
   "metadata": {},
   "outputs": [
    {
     "name": "stdout",
     "output_type": "stream",
     "text": [
      "        date  x_rate_USTbill3M\n",
      "0 2018-11-26            2.3775\n",
      "1 2018-11-27            2.3771\n",
      "2 2018-11-28            2.3704\n",
      "3 2018-11-29            2.3616\n",
      "4 2018-11-30            2.3654\n"
     ]
    }
   ],
   "source": [
    "# this is our feature\n",
    "# USTbill3M\n",
    "x_USTbill3M = pd.read_csv(f\"../data/USTbill3M.csv\")\n",
    "x_USTbill3M = x_USTbill3M.dropna(axis=\"columns\")\n",
    "x_USTbill3M.columns = [\"date\", \"x_rate_USTbill3M\"]\n",
    "x_USTbill3M[\"date\"] = pd.to_datetime(x_USTbill3M[\"date\"])\n",
    "# no need flip, already in correct order\n",
    "print(x_USTbill3M.head())"
   ]
  },
  {
   "cell_type": "code",
   "execution_count": 7,
   "metadata": {},
   "outputs": [
    {
     "name": "stdout",
     "output_type": "stream",
     "text": [
      "Empty DataFrame\n",
      "Columns: [date, x_rate_USTbill3M]\n",
      "Index: []\n",
      "       x_rate_USTbill3M\n",
      "count       1250.000000\n",
      "mean           1.866989\n",
      "std            1.902441\n",
      "min           -0.031200\n",
      "25%            0.090225\n",
      "50%            1.556850\n",
      "75%            2.700375\n",
      "max            5.491500\n"
     ]
    }
   ],
   "source": [
    "# check NA\n",
    "print(x_USTbill3M[x_USTbill3M.isna().any(axis=1)])\n",
    "# describe the data\n",
    "print(x_USTbill3M.describe())"
   ]
  },
  {
   "cell_type": "code",
   "execution_count": 8,
   "metadata": {},
   "outputs": [
    {
     "name": "stdout",
     "output_type": "stream",
     "text": [
      "           date  x_mid_USD3MOIS\n",
      "1515 2018-01-02           1.439\n",
      "1514 2018-01-03           1.444\n",
      "1513 2018-01-04           1.454\n",
      "1512 2018-01-05           1.454\n",
      "1511 2018-01-08           1.457\n"
     ]
    }
   ],
   "source": [
    "# USD3MOIS this is weird data\n",
    "x_USD3MOIS = pd.read_csv(f\"../data/USD3MOIS.csv\")\n",
    "x_USD3MOIS.columns = [\"date\", \"bid\", \"ask\"]\n",
    "x_USD3MOIS[\"date\"] = pd.to_datetime(x_USD3MOIS[\"date\"])\n",
    "x_USD3MOIS[\"x_mid_USD3MOIS\"] = 0.5 * (x_USD3MOIS[\"bid\"] + x_USD3MOIS[\"ask\"])\n",
    "# flip it so that first row\n",
    "x_USD3MOIS = x_USD3MOIS.iloc[::-1]\n",
    "x_USD3MOIS = x_USD3MOIS.drop(columns=[\"bid\", \"ask\"])\n",
    "print(x_USD3MOIS.head())"
   ]
  },
  {
   "cell_type": "code",
   "execution_count": 9,
   "metadata": {},
   "outputs": [],
   "source": [
    "to_concat = [x_3MSOFRFuture, x_USTbill3M, x_USD3MOIS]\n",
    "df_concat = y_CME3MSOFR"
   ]
  },
  {
   "cell_type": "code",
   "execution_count": 10,
   "metadata": {},
   "outputs": [
    {
     "name": "stdout",
     "output_type": "stream",
     "text": [
      "       y_rate_CME3MSOFR  x_price_3MSOFRFuture  x_rate_USTbill3M  \\\n",
      "count       1199.000000           1199.000000       1198.000000   \n",
      "mean           1.821782             97.893874          1.781852   \n",
      "std            1.884534              1.801295          1.868201   \n",
      "min            0.016000             94.305000         -0.031200   \n",
      "25%            0.069150             96.635000          0.087600   \n",
      "50%            1.579000             98.550000          1.541100   \n",
      "75%            2.665290             99.392500          2.506525   \n",
      "max            5.422450             99.990000          5.470100   \n",
      "\n",
      "       x_mid_USD3MOIS  \n",
      "count     1199.000000  \n",
      "mean         1.831487  \n",
      "std          1.884902  \n",
      "min          0.043000  \n",
      "25%          0.081000  \n",
      "50%          1.556000  \n",
      "75%          2.740500  \n",
      "max          5.442400  \n",
      "date                    0\n",
      "y_rate_CME3MSOFR        0\n",
      "x_price_3MSOFRFuture    0\n",
      "x_rate_USTbill3M        1\n",
      "x_mid_USD3MOIS          0\n",
      "dtype: int64\n"
     ]
    }
   ],
   "source": [
    "for frames in to_concat:\n",
    "    df_concat = pd.merge(df_concat, frames, on=\"date\", how=\"left\")\n",
    "print(df_concat.describe())\n",
    "print(df_concat.isna().sum())"
   ]
  },
  {
   "cell_type": "code",
   "execution_count": 11,
   "metadata": {},
   "outputs": [
    {
     "name": "stdout",
     "output_type": "stream",
     "text": [
      "date                    0\n",
      "y_rate_CME3MSOFR        0\n",
      "x_price_3MSOFRFuture    0\n",
      "x_rate_USTbill3M        0\n",
      "x_mid_USD3MOIS          0\n",
      "dtype: int64\n"
     ]
    }
   ],
   "source": [
    "df_concat = df_concat.fillna(method=\"bfill\")\n",
    "print(df_concat.isna().sum())"
   ]
  },
  {
   "cell_type": "code",
   "execution_count": 12,
   "metadata": {},
   "outputs": [],
   "source": [
    "df_concat.set_index(\"date\", inplace=True)"
   ]
  },
  {
   "cell_type": "code",
   "execution_count": 13,
   "metadata": {},
   "outputs": [
    {
     "name": "stdout",
     "output_type": "stream",
     "text": [
      "<class 'pandas.core.frame.DataFrame'>\n",
      "DatetimeIndex: 1199 entries, 2019-01-03 to 2023-11-21\n",
      "Data columns (total 4 columns):\n",
      " #   Column                Non-Null Count  Dtype  \n",
      "---  ------                --------------  -----  \n",
      " 0   y_rate_CME3MSOFR      1199 non-null   float64\n",
      " 1   x_price_3MSOFRFuture  1199 non-null   float64\n",
      " 2   x_rate_USTbill3M      1199 non-null   float64\n",
      " 3   x_mid_USD3MOIS        1199 non-null   float64\n",
      "dtypes: float64(4)\n",
      "memory usage: 46.8 KB\n"
     ]
    }
   ],
   "source": [
    "df_concat.info()"
   ]
  },
  {
   "cell_type": "code",
   "execution_count": 14,
   "metadata": {},
   "outputs": [],
   "source": [
    "# df_concat.index = pd.to_datetime(df_concat.index)\n",
    "# train = df_concat.loc[df_concat.index < pd.to_datetime(\"2023-01-01\")]\n",
    "# test = df_concat.loc[df_concat.index >= pd.to_datetime(\"2023-01-01\")]\n",
    "\n",
    "# fig, ax = plt.subplots()\n",
    "# train[\"y_rate_CME3MSOFR\"].plot(\n",
    "#    ax=ax, label=\"Training Set\", title=\"Data Train/Test Split : y_rate_CME3MSOFR\"\n",
    "# )\n",
    "# test[\"y_rate_CME3MSOFR\"].plot(ax=ax, label=\"Test Set\")\n",
    "# ax.axvline(pd.to_datetime(\"2023-01-01\"), color=\"black\", ls=\"--\")\n",
    "# plt.show()"
   ]
  },
  {
   "cell_type": "code",
   "execution_count": 15,
   "metadata": {},
   "outputs": [
    {
     "data": {
      "text/html": [
       "<div>\n",
       "<style scoped>\n",
       "    .dataframe tbody tr th:only-of-type {\n",
       "        vertical-align: middle;\n",
       "    }\n",
       "\n",
       "    .dataframe tbody tr th {\n",
       "        vertical-align: top;\n",
       "    }\n",
       "\n",
       "    .dataframe thead th {\n",
       "        text-align: right;\n",
       "    }\n",
       "</style>\n",
       "<table border=\"1\" class=\"dataframe\">\n",
       "  <thead>\n",
       "    <tr style=\"text-align: right;\">\n",
       "      <th></th>\n",
       "      <th>y_rate_CME3MSOFR</th>\n",
       "      <th>x_price_3MSOFRFuture</th>\n",
       "      <th>x_rate_USTbill3M</th>\n",
       "      <th>x_mid_USD3MOIS</th>\n",
       "    </tr>\n",
       "    <tr>\n",
       "      <th>date</th>\n",
       "      <th></th>\n",
       "      <th></th>\n",
       "      <th></th>\n",
       "      <th></th>\n",
       "    </tr>\n",
       "  </thead>\n",
       "  <tbody>\n",
       "    <tr>\n",
       "      <th>2019-01-03</th>\n",
       "      <td>2.4328</td>\n",
       "      <td>97.835</td>\n",
       "      <td>2.3919</td>\n",
       "      <td>2.393</td>\n",
       "    </tr>\n",
       "    <tr>\n",
       "      <th>2019-01-04</th>\n",
       "      <td>2.4296</td>\n",
       "      <td>97.770</td>\n",
       "      <td>2.4058</td>\n",
       "      <td>2.404</td>\n",
       "    </tr>\n",
       "    <tr>\n",
       "      <th>2019-01-07</th>\n",
       "      <td>2.4276</td>\n",
       "      <td>97.725</td>\n",
       "      <td>2.4127</td>\n",
       "      <td>2.407</td>\n",
       "    </tr>\n",
       "    <tr>\n",
       "      <th>2019-01-08</th>\n",
       "      <td>2.4298</td>\n",
       "      <td>97.655</td>\n",
       "      <td>2.4243</td>\n",
       "      <td>2.415</td>\n",
       "    </tr>\n",
       "    <tr>\n",
       "      <th>2019-01-09</th>\n",
       "      <td>2.4390</td>\n",
       "      <td>97.665</td>\n",
       "      <td>2.4213</td>\n",
       "      <td>2.410</td>\n",
       "    </tr>\n",
       "  </tbody>\n",
       "</table>\n",
       "</div>"
      ],
      "text/plain": [
       "            y_rate_CME3MSOFR  x_price_3MSOFRFuture  x_rate_USTbill3M  \\\n",
       "date                                                                   \n",
       "2019-01-03            2.4328                97.835            2.3919   \n",
       "2019-01-04            2.4296                97.770            2.4058   \n",
       "2019-01-07            2.4276                97.725            2.4127   \n",
       "2019-01-08            2.4298                97.655            2.4243   \n",
       "2019-01-09            2.4390                97.665            2.4213   \n",
       "\n",
       "            x_mid_USD3MOIS  \n",
       "date                        \n",
       "2019-01-03           2.393  \n",
       "2019-01-04           2.404  \n",
       "2019-01-07           2.407  \n",
       "2019-01-08           2.415  \n",
       "2019-01-09           2.410  "
      ]
     },
     "execution_count": 15,
     "metadata": {},
     "output_type": "execute_result"
    }
   ],
   "source": [
    "#  df_concat = create_features(df_concat)\n",
    "df_concat.head()"
   ]
  },
  {
   "cell_type": "markdown",
   "metadata": {},
   "source": [
    "## Feature Lagging ##"
   ]
  },
  {
   "cell_type": "code",
   "execution_count": 16,
   "metadata": {},
   "outputs": [],
   "source": [
    "to_shift = [\n",
    "    \"x_price_3MSOFRFuture\",\n",
    "    \"x_rate_USTbill3M\",\n",
    "    \"x_mid_USD3MOIS\",\n",
    "]\n",
    "lookback = 3  # start lag from and go backwards"
   ]
  },
  {
   "cell_type": "code",
   "execution_count": 17,
   "metadata": {},
   "outputs": [],
   "source": [
    "def make_lags(ts, lags):\n",
    "    return pd.concat(\n",
    "        {f\"y_lag_{i}\": ts.shift(i) for i in range(lookback, lookback + lags + 1)},\n",
    "        axis=1,\n",
    "    )\n",
    "\n",
    "\n",
    "# Create three lags for each feature term\n",
    "X0 = make_lags(df_concat[to_shift], lags=3)\n",
    "X0.columns = [\" \".join(col).strip() for col in X0.columns.values]\n",
    "\n",
    "X0 = X0.fillna(method=\"bfill\")"
   ]
  },
  {
   "cell_type": "code",
   "execution_count": 18,
   "metadata": {},
   "outputs": [
    {
     "data": {
      "text/html": [
       "<div>\n",
       "<style scoped>\n",
       "    .dataframe tbody tr th:only-of-type {\n",
       "        vertical-align: middle;\n",
       "    }\n",
       "\n",
       "    .dataframe tbody tr th {\n",
       "        vertical-align: top;\n",
       "    }\n",
       "\n",
       "    .dataframe thead th {\n",
       "        text-align: right;\n",
       "    }\n",
       "</style>\n",
       "<table border=\"1\" class=\"dataframe\">\n",
       "  <thead>\n",
       "    <tr style=\"text-align: right;\">\n",
       "      <th></th>\n",
       "      <th>y_lag_3 x_price_3MSOFRFuture</th>\n",
       "      <th>y_lag_3 x_rate_USTbill3M</th>\n",
       "      <th>y_lag_3 x_mid_USD3MOIS</th>\n",
       "      <th>y_lag_4 x_price_3MSOFRFuture</th>\n",
       "      <th>y_lag_4 x_rate_USTbill3M</th>\n",
       "      <th>y_lag_4 x_mid_USD3MOIS</th>\n",
       "      <th>y_lag_5 x_price_3MSOFRFuture</th>\n",
       "      <th>y_lag_5 x_rate_USTbill3M</th>\n",
       "      <th>y_lag_5 x_mid_USD3MOIS</th>\n",
       "      <th>y_lag_6 x_price_3MSOFRFuture</th>\n",
       "      <th>y_lag_6 x_rate_USTbill3M</th>\n",
       "      <th>y_lag_6 x_mid_USD3MOIS</th>\n",
       "    </tr>\n",
       "    <tr>\n",
       "      <th>date</th>\n",
       "      <th></th>\n",
       "      <th></th>\n",
       "      <th></th>\n",
       "      <th></th>\n",
       "      <th></th>\n",
       "      <th></th>\n",
       "      <th></th>\n",
       "      <th></th>\n",
       "      <th></th>\n",
       "      <th></th>\n",
       "      <th></th>\n",
       "      <th></th>\n",
       "    </tr>\n",
       "  </thead>\n",
       "  <tbody>\n",
       "    <tr>\n",
       "      <th>2019-01-03</th>\n",
       "      <td>97.835</td>\n",
       "      <td>2.3919</td>\n",
       "      <td>2.393</td>\n",
       "      <td>97.835</td>\n",
       "      <td>2.3919</td>\n",
       "      <td>2.393</td>\n",
       "      <td>97.835</td>\n",
       "      <td>2.3919</td>\n",
       "      <td>2.393</td>\n",
       "      <td>97.835</td>\n",
       "      <td>2.3919</td>\n",
       "      <td>2.393</td>\n",
       "    </tr>\n",
       "    <tr>\n",
       "      <th>2019-01-04</th>\n",
       "      <td>97.835</td>\n",
       "      <td>2.3919</td>\n",
       "      <td>2.393</td>\n",
       "      <td>97.835</td>\n",
       "      <td>2.3919</td>\n",
       "      <td>2.393</td>\n",
       "      <td>97.835</td>\n",
       "      <td>2.3919</td>\n",
       "      <td>2.393</td>\n",
       "      <td>97.835</td>\n",
       "      <td>2.3919</td>\n",
       "      <td>2.393</td>\n",
       "    </tr>\n",
       "    <tr>\n",
       "      <th>2019-01-07</th>\n",
       "      <td>97.835</td>\n",
       "      <td>2.3919</td>\n",
       "      <td>2.393</td>\n",
       "      <td>97.835</td>\n",
       "      <td>2.3919</td>\n",
       "      <td>2.393</td>\n",
       "      <td>97.835</td>\n",
       "      <td>2.3919</td>\n",
       "      <td>2.393</td>\n",
       "      <td>97.835</td>\n",
       "      <td>2.3919</td>\n",
       "      <td>2.393</td>\n",
       "    </tr>\n",
       "    <tr>\n",
       "      <th>2019-01-08</th>\n",
       "      <td>97.835</td>\n",
       "      <td>2.3919</td>\n",
       "      <td>2.393</td>\n",
       "      <td>97.835</td>\n",
       "      <td>2.3919</td>\n",
       "      <td>2.393</td>\n",
       "      <td>97.835</td>\n",
       "      <td>2.3919</td>\n",
       "      <td>2.393</td>\n",
       "      <td>97.835</td>\n",
       "      <td>2.3919</td>\n",
       "      <td>2.393</td>\n",
       "    </tr>\n",
       "    <tr>\n",
       "      <th>2019-01-09</th>\n",
       "      <td>97.770</td>\n",
       "      <td>2.4058</td>\n",
       "      <td>2.404</td>\n",
       "      <td>97.835</td>\n",
       "      <td>2.3919</td>\n",
       "      <td>2.393</td>\n",
       "      <td>97.835</td>\n",
       "      <td>2.3919</td>\n",
       "      <td>2.393</td>\n",
       "      <td>97.835</td>\n",
       "      <td>2.3919</td>\n",
       "      <td>2.393</td>\n",
       "    </tr>\n",
       "  </tbody>\n",
       "</table>\n",
       "</div>"
      ],
      "text/plain": [
       "            y_lag_3 x_price_3MSOFRFuture  y_lag_3 x_rate_USTbill3M  \\\n",
       "date                                                                 \n",
       "2019-01-03                        97.835                    2.3919   \n",
       "2019-01-04                        97.835                    2.3919   \n",
       "2019-01-07                        97.835                    2.3919   \n",
       "2019-01-08                        97.835                    2.3919   \n",
       "2019-01-09                        97.770                    2.4058   \n",
       "\n",
       "            y_lag_3 x_mid_USD3MOIS  y_lag_4 x_price_3MSOFRFuture  \\\n",
       "date                                                               \n",
       "2019-01-03                   2.393                        97.835   \n",
       "2019-01-04                   2.393                        97.835   \n",
       "2019-01-07                   2.393                        97.835   \n",
       "2019-01-08                   2.393                        97.835   \n",
       "2019-01-09                   2.404                        97.835   \n",
       "\n",
       "            y_lag_4 x_rate_USTbill3M  y_lag_4 x_mid_USD3MOIS  \\\n",
       "date                                                           \n",
       "2019-01-03                    2.3919                   2.393   \n",
       "2019-01-04                    2.3919                   2.393   \n",
       "2019-01-07                    2.3919                   2.393   \n",
       "2019-01-08                    2.3919                   2.393   \n",
       "2019-01-09                    2.3919                   2.393   \n",
       "\n",
       "            y_lag_5 x_price_3MSOFRFuture  y_lag_5 x_rate_USTbill3M  \\\n",
       "date                                                                 \n",
       "2019-01-03                        97.835                    2.3919   \n",
       "2019-01-04                        97.835                    2.3919   \n",
       "2019-01-07                        97.835                    2.3919   \n",
       "2019-01-08                        97.835                    2.3919   \n",
       "2019-01-09                        97.835                    2.3919   \n",
       "\n",
       "            y_lag_5 x_mid_USD3MOIS  y_lag_6 x_price_3MSOFRFuture  \\\n",
       "date                                                               \n",
       "2019-01-03                   2.393                        97.835   \n",
       "2019-01-04                   2.393                        97.835   \n",
       "2019-01-07                   2.393                        97.835   \n",
       "2019-01-08                   2.393                        97.835   \n",
       "2019-01-09                   2.393                        97.835   \n",
       "\n",
       "            y_lag_6 x_rate_USTbill3M  y_lag_6 x_mid_USD3MOIS  \n",
       "date                                                          \n",
       "2019-01-03                    2.3919                   2.393  \n",
       "2019-01-04                    2.3919                   2.393  \n",
       "2019-01-07                    2.3919                   2.393  \n",
       "2019-01-08                    2.3919                   2.393  \n",
       "2019-01-09                    2.3919                   2.393  "
      ]
     },
     "execution_count": 18,
     "metadata": {},
     "output_type": "execute_result"
    }
   ],
   "source": [
    "X0.head()"
   ]
  },
  {
   "cell_type": "code",
   "execution_count": 19,
   "metadata": {},
   "outputs": [],
   "source": [
    "# Create four lags for the target, as before\n",
    "X1 = make_lags(df_concat[\"y_rate_CME3MSOFR\"], lags=3)"
   ]
  },
  {
   "cell_type": "code",
   "execution_count": 20,
   "metadata": {},
   "outputs": [],
   "source": [
    "# Combine to create the training data\n",
    "X = pd.concat([X0, X1], axis=1).fillna(method=\"bfill\")"
   ]
  },
  {
   "cell_type": "code",
   "execution_count": 21,
   "metadata": {},
   "outputs": [],
   "source": [
    "y = y_CME3MSOFR.y_rate_CME3MSOFR.copy()"
   ]
  },
  {
   "cell_type": "code",
   "execution_count": 22,
   "metadata": {},
   "outputs": [
    {
     "data": {
      "image/png": "[encoded data removed]",
      "text/plain": [
       "<Figure size 640x480 with 1 Axes>"
      ]
     },
     "metadata": {},
     "output_type": "display_data"
    }
   ],
   "source": [
    "_ = plot_acf(y_CME3MSOFR.y_rate_CME3MSOFR, lags=50)"
   ]
  },
  {
   "cell_type": "code",
   "execution_count": 23,
   "metadata": {},
   "outputs": [
    {
     "data": {
      "image/png": "[encoded data removed]",
      "text/plain": [
       "<Figure size 640x480 with 1 Axes>"
      ]
     },
     "metadata": {},
     "output_type": "display_data"
    }
   ],
   "source": [
    "_ = plot_pacf(y_CME3MSOFR.y_rate_CME3MSOFR, lags=50)"
   ]
  },
  {
   "cell_type": "markdown",
   "metadata": {},
   "source": [
    "## LINEAR REGRESSION ONLY ##"
   ]
  },
  {
   "cell_type": "code",
   "execution_count": 24,
   "metadata": {},
   "outputs": [],
   "source": [
    "my_test_size = 300"
   ]
  },
  {
   "cell_type": "code",
   "execution_count": 25,
   "metadata": {},
   "outputs": [],
   "source": [
    "X_train, X_test, y_train, y_test = train_test_split(\n",
    "    X, y, test_size=my_test_size, shuffle=False\n",
    ")\n",
    "\n",
    "model = LinearRegression()\n",
    "model.fit(X_train, y_train)\n",
    "y_fit = pd.Series(\n",
    "    model.predict(X_train), index=y_train.index\n",
    ")  # y from predicting using X_train\n",
    "y_pred = pd.Series(\n",
    "    model.predict(X_test), index=y_test.index\n",
    ")  #  y from predicting using X_test"
   ]
  },
  {
   "cell_type": "code",
   "execution_count": 26,
   "metadata": {},
   "outputs": [],
   "source": [
    "y_cut = pd.Series(y, index=y_test.index).dropna()"
   ]
  },
  {
   "cell_type": "code",
   "execution_count": 27,
   "metadata": {},
   "outputs": [],
   "source": [
    "train_rmse = mean_squared_error(y_train, y_fit, squared=False)\n",
    "test_rmse = mean_squared_error(y_test, y_pred, squared=False)"
   ]
  },
  {
   "cell_type": "code",
   "execution_count": 28,
   "metadata": {},
   "outputs": [
    {
     "data": {
      "text/plain": [
       "<matplotlib.legend.Legend at 0x1d2ab3a28d0>"
      ]
     },
     "execution_count": 28,
     "metadata": {},
     "output_type": "execute_result"
    },
    {
     "data": {
      "image/png": "[encoded data removed]",
      "text/plain": [
       "<Figure size 1000x500 with 1 Axes>"
      ]
     },
     "metadata": {},
     "output_type": "display_data"
    }
   ],
   "source": [
    "plt.figure(figsize=(10, 5))\n",
    "plt.plot(y, label=\"actual y\")\n",
    "plt.plot(y_fit, label=\"y from predicting using X_train\")\n",
    "plt.plot(y_cut, label=\"y_cut\")\n",
    "plt.plot(y_pred, label=\" y from predicting using X_test\")\n",
    "plt.title(f\"LINEAR ONLY : train_rmse = {train_rmse}  vs test_rmse = {test_rmse}\")\n",
    "plt.legend()"
   ]
  },
  {
   "cell_type": "markdown",
   "metadata": {},
   "source": [
    "## Incorporate XGBOOST ##\n",
    "\n",
    "1. Train and predict with first model\n",
    "```\n",
    "model_1.fit(X_train_1, y_train)\n",
    "y_pred_1 = model_1.predict(X_train)\n",
    "```\n",
    "2. Train and predict with second model on residuals\n",
    "```\n",
    "model_2.fit(X_train_2, y_train - y_pred_1)\n",
    "y_pred_2 = model_2.predict(X_train_2)\n",
    "```\n",
    "3. Add to get overall predictions\n",
    "```\n",
    "y_pred = y_pred_1 + y_pred_2\n",
    "```"
   ]
  },
  {
   "cell_type": "code",
   "execution_count": 29,
   "metadata": {},
   "outputs": [
    {
     "data": {
      "text/html": [
       "<style>#sk-container-id-1 {color: black;}#sk-container-id-1 pre{padding: 0;}#sk-container-id-1 div.sk-toggleable {background-color: white;}#sk-container-id-1 label.sk-toggleable__label {cursor: pointer;display: block;width: 100%;margin-bottom: 0;padding: 0.3em;box-sizing: border-box;text-align: center;}#sk-container-id-1 label.sk-toggleable__label-arrow:before {content: \"▸\";float: left;margin-right: 0.25em;color: #696969;}#sk-container-id-1 label.sk-toggleable__label-arrow:hover:before {color: black;}#sk-container-id-1 div.sk-estimator:hover label.sk-toggleable__label-arrow:before {color: black;}#sk-container-id-1 div.sk-toggleable__content {max-height: 0;max-width: 0;overflow: hidden;text-align: left;background-color: #f0f8ff;}#sk-container-id-1 div.sk-toggleable__content pre {margin: 0.2em;color: black;border-radius: 0.25em;background-color: #f0f8ff;}#sk-container-id-1 input.sk-toggleable__control:checked~div.sk-toggleable__content {max-height: 200px;max-width: 100%;overflow: auto;}#sk-container-id-1 input.sk-toggleable__control:checked~label.sk-toggleable__label-arrow:before {content: \"▾\";}#sk-container-id-1 div.sk-estimator input.sk-toggleable__control:checked~label.sk-toggleable__label {background-color: #d4ebff;}#sk-container-id-1 div.sk-label input.sk-toggleable__control:checked~label.sk-toggleable__label {background-color: #d4ebff;}#sk-container-id-1 input.sk-hidden--visually {border: 0;clip: rect(1px 1px 1px 1px);clip: rect(1px, 1px, 1px, 1px);height: 1px;margin: -1px;overflow: hidden;padding: 0;position: absolute;width: 1px;}#sk-container-id-1 div.sk-estimator {font-family: monospace;background-color: #f0f8ff;border: 1px dotted black;border-radius: 0.25em;box-sizing: border-box;margin-bottom: 0.5em;}#sk-container-id-1 div.sk-estimator:hover {background-color: #d4ebff;}#sk-container-id-1 div.sk-parallel-item::after {content: \"\";width: 100%;border-bottom: 1px solid gray;flex-grow: 1;}#sk-container-id-1 div.sk-label:hover label.sk-toggleable__label {background-color: #d4ebff;}#sk-container-id-1 div.sk-serial::before {content: \"\";position: absolute;border-left: 1px solid gray;box-sizing: border-box;top: 0;bottom: 0;left: 50%;z-index: 0;}#sk-container-id-1 div.sk-serial {display: flex;flex-direction: column;align-items: center;background-color: white;padding-right: 0.2em;padding-left: 0.2em;position: relative;}#sk-container-id-1 div.sk-item {position: relative;z-index: 1;}#sk-container-id-1 div.sk-parallel {display: flex;align-items: stretch;justify-content: center;background-color: white;position: relative;}#sk-container-id-1 div.sk-item::before, #sk-container-id-1 div.sk-parallel-item::before {content: \"\";position: absolute;border-left: 1px solid gray;box-sizing: border-box;top: 0;bottom: 0;left: 50%;z-index: -1;}#sk-container-id-1 div.sk-parallel-item {display: flex;flex-direction: column;z-index: 1;position: relative;background-color: white;}#sk-container-id-1 div.sk-parallel-item:first-child::after {align-self: flex-end;width: 50%;}#sk-container-id-1 div.sk-parallel-item:last-child::after {align-self: flex-start;width: 50%;}#sk-container-id-1 div.sk-parallel-item:only-child::after {width: 0;}#sk-container-id-1 div.sk-dashed-wrapped {border: 1px dashed gray;margin: 0 0.4em 0.5em 0.4em;box-sizing: border-box;padding-bottom: 0.4em;background-color: white;}#sk-container-id-1 div.sk-label label {font-family: monospace;font-weight: bold;display: inline-block;line-height: 1.2em;}#sk-container-id-1 div.sk-label-container {text-align: center;}#sk-container-id-1 div.sk-container {/* jupyter's `normalize.less` sets `[hidden] { display: none; }` but bootstrap.min.css set `[hidden] { display: none !important; }` so we also need the `!important` here to be able to override the default hidden behavior on the sphinx rendered scikit-learn.org. See: https://github.com/scikit-learn/scikit-learn/issues/21755 */display: inline-block !important;position: relative;}#sk-container-id-1 div.sk-text-repr-fallback {display: none;}</style><div id=\"sk-container-id-1\" class=\"sk-top-container\"><div class=\"sk-text-repr-fallback\"><pre>XGBRegressor(base_score=None, booster=None, callbacks=None,\n",
       "             colsample_bylevel=None, colsample_bynode=None,\n",
       "             colsample_bytree=None, device=None, early_stopping_rounds=None,\n",
       "             enable_categorical=False, eval_metric=None, feature_types=None,\n",
       "             gamma=None, grow_policy=None, importance_type=None,\n",
       "             interaction_constraints=None, learning_rate=None, max_bin=None,\n",
       "             max_cat_threshold=None, max_cat_to_onehot=None,\n",
       "             max_delta_step=None, max_depth=None, max_leaves=None,\n",
       "             min_child_weight=None, missing=nan, monotone_constraints=None,\n",
       "             multi_strategy=None, n_estimators=10000, n_jobs=None,\n",
       "             num_parallel_tree=None, random_state=None, ...)</pre><b>In a Jupyter environment, please rerun this cell to show the HTML representation or trust the notebook. <br />On GitHub, the HTML representation is unable to render, please try loading this page with nbviewer.org.</b></div><div class=\"sk-container\" hidden><div class=\"sk-item\"><div class=\"sk-estimator sk-toggleable\"><input class=\"sk-toggleable__control sk-hidden--visually\" id=\"sk-estimator-id-1\" type=\"checkbox\" checked><label for=\"sk-estimator-id-1\" class=\"sk-toggleable__label sk-toggleable__label-arrow\">XGBRegressor</label><div class=\"sk-toggleable__content\"><pre>XGBRegressor(base_score=None, booster=None, callbacks=None,\n",
       "             colsample_bylevel=None, colsample_bynode=None,\n",
       "             colsample_bytree=None, device=None, early_stopping_rounds=None,\n",
       "             enable_categorical=False, eval_metric=None, feature_types=None,\n",
       "             gamma=None, grow_policy=None, importance_type=None,\n",
       "             interaction_constraints=None, learning_rate=None, max_bin=None,\n",
       "             max_cat_threshold=None, max_cat_to_onehot=None,\n",
       "             max_delta_step=None, max_depth=None, max_leaves=None,\n",
       "             min_child_weight=None, missing=nan, monotone_constraints=None,\n",
       "             multi_strategy=None, n_estimators=10000, n_jobs=None,\n",
       "             num_parallel_tree=None, random_state=None, ...)</pre></div></div></div></div></div>"
      ],
      "text/plain": [
       "XGBRegressor(base_score=None, booster=None, callbacks=None,\n",
       "             colsample_bylevel=None, colsample_bynode=None,\n",
       "             colsample_bytree=None, device=None, early_stopping_rounds=None,\n",
       "             enable_categorical=False, eval_metric=None, feature_types=None,\n",
       "             gamma=None, grow_policy=None, importance_type=None,\n",
       "             interaction_constraints=None, learning_rate=None, max_bin=None,\n",
       "             max_cat_threshold=None, max_cat_to_onehot=None,\n",
       "             max_delta_step=None, max_depth=None, max_leaves=None,\n",
       "             min_child_weight=None, missing=nan, monotone_constraints=None,\n",
       "             multi_strategy=None, n_estimators=10000, n_jobs=None,\n",
       "             num_parallel_tree=None, random_state=None, ...)"
      ]
     },
     "execution_count": 29,
     "metadata": {},
     "output_type": "execute_result"
    }
   ],
   "source": [
    "import xgboost as xgb\n",
    "\n",
    "X_train, X_test, y_train, y_test = train_test_split(\n",
    "    X, y, test_size=my_test_size, shuffle=False\n",
    ")\n",
    "\n",
    "model = LinearRegression()\n",
    "model.fit(X_train, y_train)\n",
    "y_fit = pd.Series(\n",
    "    model.predict(X_train), index=y_train.index\n",
    ")  # y from predicting using X_train\n",
    "y_pred = pd.Series(\n",
    "    model.predict(X_test), index=y_test.index\n",
    ")  #  y from predicting using X_test\n",
    "\n",
    "# create target residuals\n",
    "y_resid = y_train - y_fit\n",
    "\n",
    "# Train XGBoost on the residuals\n",
    "xgb_reg = xgb.XGBRegressor(n_estimators=10000)\n",
    "xgb_reg.fit(X_train, y_resid)"
   ]
  },
  {
   "cell_type": "code",
   "execution_count": 30,
   "metadata": {},
   "outputs": [],
   "source": [
    "# Add the predicted residuals onto the predicted trends\n",
    "y_fit_boosted = xgb_reg.predict(X_train) + y_fit\n",
    "y_pred_boosted = xgb_reg.predict(X_test) + y_pred"
   ]
  },
  {
   "cell_type": "code",
   "execution_count": 31,
   "metadata": {},
   "outputs": [],
   "source": [
    "train_rmse = mean_squared_error(y_train, y_fit_boosted, squared=False)\n",
    "test_rmse = mean_squared_error(y_test, y_pred_boosted, squared=False)"
   ]
  },
  {
   "cell_type": "code",
   "execution_count": 32,
   "metadata": {},
   "outputs": [
    {
     "data": {
      "text/plain": [
       "<matplotlib.legend.Legend at 0x1d2ab39fe50>"
      ]
     },
     "execution_count": 32,
     "metadata": {},
     "output_type": "execute_result"
    },
    {
     "data": {
      "image/png": "[encoded data removed]",
      "text/plain": [
       "<Figure size 1000x500 with 1 Axes>"
      ]
     },
     "metadata": {},
     "output_type": "display_data"
    }
   ],
   "source": [
    "plt.figure(figsize=(10, 5))\n",
    "plt.plot(y, label=\"actual y\")\n",
    "plt.plot(y_fit_boosted, label=\"y from predicting using X_train - BOOSTED\")\n",
    "plt.plot(y_cut, label=\"y_cut\")\n",
    "plt.plot(y_pred_boosted, label=\" y from predicting using X_test - BOOSTED\")\n",
    "plt.title(f\"BOOSTEED : train_rmse = {train_rmse}  vs test_rmse = {test_rmse}\")\n",
    "plt.legend()"
   ]
  }
 ],
 "metadata": {
  "kernelspec": {
   "display_name": "Python 3",
   "language": "python",
   "name": "python3"
  },
  "language_info": {
   "codemirror_mode": {
    "name": "ipython",
    "version": 3
   },
   "file_extension": ".py",
   "mimetype": "text/x-python",
   "name": "python",
   "nbconvert_exporter": "python",
   "pygments_lexer": "ipython3",
   "version": "3.11.5"
  }
 },
 "nbformat": 4,
 "nbformat_minor": 2
}
